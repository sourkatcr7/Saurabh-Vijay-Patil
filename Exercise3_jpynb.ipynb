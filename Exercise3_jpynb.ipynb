{
  "nbformat": 4,
  "nbformat_minor": 0,
  "metadata": {
    "colab": {
      "provenance": []
    },
    "kernelspec": {
      "name": "python3",
      "display_name": "Python 3"
    },
    "language_info": {
      "name": "python"
    }
  },
  "cells": [
    {
      "cell_type": "code",
      "execution_count": null,
      "metadata": {
        "colab": {
          "base_uri": "https://localhost:8080/"
        },
        "id": "7M5he47VIY3Z",
        "outputId": "3aa033ba-1991-441a-d93c-b92d36947771"
      },
      "outputs": [
        {
          "output_type": "stream",
          "name": "stdout",
          "text": [
            "T-Test Results:\n",
            "T-Statistic: -39.492719391538095\n",
            "P-Value: 5.404910513441677e-62\n",
            "Reject the null hypothesis: The means are significantly different.\n"
          ]
        }
      ],
      "source": [
        "import pandas as pd\n",
        "from scipy import stats\n",
        "from sklearn.datasets import load_iris\n",
        "\n",
        "\n",
        "iris = load_iris()\n",
        "\n",
        "\n",
        "df = pd.DataFrame(iris.data, columns=iris.feature_names)\n",
        "\n",
        "\n",
        "df['species'] = iris.target\n",
        "df['species'] = df['species'].map({0: 'setosa', 1: 'versicolor', 2: 'virginica'})\n",
        "\n",
        "\n",
        "setosa_petal_length = df[df['species'] == 'setosa']['petal length (cm)']\n",
        "versicolor_petal_length = df[df['species'] == 'versicolor']['petal length (cm)']\n",
        "\n",
        "\n",
        "t_stat, p_value = stats.ttest_ind(setosa_petal_length, versicolor_petal_length)\n",
        "\n",
        "\n",
        "print(\"T-Test Results:\")\n",
        "print(f\"T-Statistic: {t_stat}\")\n",
        "print(f\"P-Value: {p_value}\")\n",
        "\n",
        "\n",
        "if p_value < 0.05:\n",
        "    print(\"Reject the null hypothesis: The means are significantly different.\")\n",
        "else:\n",
        "    print(\"Fail to reject the null hypothesis: The means are not significantly different.\")\n"
      ]
    },
    {
      "cell_type": "markdown",
      "source": [
        "Explanation:\n",
        "Data Preparation:\n",
        "We load the Iris dataset using load_iris from the sklearn.datasets module.\n",
        "The data is then converted to a DataFrame for easier manipulation.\n",
        "The target labels are mapped to the corresponding species names: setosa, versicolor, and virginica.\n",
        "Extracting Petal Length Data:\n",
        "\n",
        "We extract the petal lengths for Setosa and Versicolor using the species column to filter the data.\n",
        "Independent T-Test:\n",
        "\n",
        "From SciPy, the method ttest_ind operates the independent T-test on the petal lengths from Setosa and Versicolor. The function returns:\n",
        "\n",
        "T-statistic: Ratio of the difference between the group means relative to the variability of the groups.\n",
        "P-value: The probability from the null distribution with a t-statistic at least as extreme as the one observed in the sample data.\n",
        "Interpretation:\n",
        "\n",
        "p < 0.05, so we reject the null hypothesis, concluding that the means of the petal lengths for Setosa and Versicolor are significantly different.\n",
        "If the p-value is greater than or equal to 0.05, we fail to reject the null hypothesis. Thus, we cannot say there is a significant difference between the means.\n",
        "\n"
      ],
      "metadata": {
        "id": "rK87t6V9KiYX"
      }
    },
    {
      "cell_type": "code",
      "source": [
        "import numpy as np\n",
        "from scipy import stats\n",
        "import pandas as pd\n",
        "from sklearn.datasets import load_iris\n",
        "\n",
        "\n",
        "iris = load_iris()\n",
        "\n",
        "\n",
        "df = pd.DataFrame(iris.data, columns=iris.feature_names)\n",
        "\n",
        "\n",
        "df['species'] = iris.target\n",
        "df['species'] = df['species'].map({0: 'setosa', 1: 'versicolor', 2: 'virginica'})\n",
        "\n",
        "\n",
        "setosa_sepal_length = df[df['species'] == 'setosa']['sepal length (cm)']\n",
        "\n",
        "\n",
        "population_std = 0.8\n",
        "\n",
        "\n",
        "population_mean = 5.0\n",
        "\n",
        "\n",
        "sample_mean = setosa_sepal_length.mean()\n",
        "sample_size = len(setosa_sepal_length)\n",
        "\n",
        "\n",
        "z_score = (sample_mean - population_mean) / (population_std / np.sqrt(sample_size))\n",
        "\n",
        "\n",
        "p_value_z = 2 * (1 - stats.norm.cdf(abs(z_score)))\n",
        "\n",
        "\n",
        "print(\"Z-Test Results:\")\n",
        "print(f\"Sample Mean: {sample_mean}\")\n",
        "print(f\"Z-Score: {z_score}\")\n",
        "print(f\"P-Value: {p_value_z}\")\n",
        "\n",
        "\n",
        "if p_value_z < 0.05:\n",
        "    print(\"Reject the null hypothesis: The mean sepal length is significantly different from 5.0.\")\n",
        "else:\n",
        "    print(\"Fail to reject the null hypothesis: The mean sepal length is not significantly different from 5.0.\")\n"
      ],
      "metadata": {
        "colab": {
          "base_uri": "https://localhost:8080/"
        },
        "id": "EdRrqyCFLNgx",
        "outputId": "48da88f3-6db9-4e6e-d633-fe7c26d83ebe"
      },
      "execution_count": null,
      "outputs": [
        {
          "output_type": "stream",
          "name": "stdout",
          "text": [
            "Z-Test Results:\n",
            "Sample Mean: 5.006\n",
            "Z-Score: 0.053033008588993076\n",
            "P-Value: 0.9577056076589621\n",
            "Fail to reject the null hypothesis: The mean sepal length is not significantly different from 5.0.\n"
          ]
        }
      ]
    },
    {
      "cell_type": "markdown",
      "source": [
        "Data Preparation:\n",
        "We will load the Iris dataset and convert it into a pandas DataFrame to be more manipulative.\n",
        "The target labels should be mapped to the species names as setosa, versicolor, virginica.\n",
        "Z-Test Calculation:\n",
        "We separate out the sepal length values for Setosa.\n",
        "Assume the population standard deviation of Setosa is 0.8-You may change this based on your own case.\n",
        "We work out the sample mean of the sepal lengths for Setosa and the sample size, n = 150.\n",
        "Using the formula for the Z-test, we can compute the Z-score.\n",
        "Computation of the P-Value:\n",
        "We find the two-tailed p-value by using the CDF of the normal distribution.\n",
        "If the p-value turns out to be less than 0.05, we reject the null hypothesis, implying that the mean sepal length for Setosa is different from 5.0.\n",
        "If the p-value is greater than or equal to 0.05, then we fail to reject the null hypothesis, meaning there is no significant difference."
      ],
      "metadata": {
        "id": "O1O7gTCPOYo6"
      }
    },
    {
      "cell_type": "code",
      "source": [
        "import pandas as pd\n",
        "from scipy import stats\n",
        "from sklearn.datasets import load_iris\n",
        "\n",
        "\n",
        "iris = load_iris()\n",
        "\n",
        "\n",
        "df = pd.DataFrame(iris.data, columns=iris.feature_names)\n",
        "\n",
        "\n",
        "df['species'] = iris.target\n",
        "df['species'] = df['species'].map({0: 'setosa', 1: 'versicolor', 2: 'virginica'})\n",
        "\n",
        "\n",
        "setosa_petal_width = df[df['species'] == 'setosa']['petal width (cm)']\n",
        "versicolor_petal_width = df[df['species'] == 'versicolor']['petal width (cm)']\n",
        "virginica_petal_width = df[df['species'] == 'virginica']['petal width (cm)']\n",
        "\n",
        "\n",
        "f_stat, p_value_anova = stats.f_oneway(setosa_petal_width, versicolor_petal_width, virginica_petal_width)\n",
        "\n",
        "\n",
        "print(\"ANOVA Results:\")\n",
        "print(f\"F-Statistic: {f_stat}\")\n",
        "print(f\"P-Value: {p_value_anova}\")\n",
        "\n",
        "\n",
        "if p_value_anova < 0.05:\n",
        "    print(\"Reject the null hypothesis: The mean petal widths are significantly different across species.\")\n",
        "else:\n",
        "    print(\"Fail to reject the null hypothesis: The mean petal widths are not significantly different across species.\")\n"
      ],
      "metadata": {
        "colab": {
          "base_uri": "https://localhost:8080/"
        },
        "id": "qI6cOecsObst",
        "outputId": "53d325a9-dd91-4f01-c0b5-d0983a6bedb6"
      },
      "execution_count": null,
      "outputs": [
        {
          "output_type": "stream",
          "name": "stdout",
          "text": [
            "ANOVA Results:\n",
            "F-Statistic: 960.007146801809\n",
            "P-Value: 4.169445839443116e-85\n",
            "Reject the null hypothesis: The mean petal widths are significantly different across species.\n"
          ]
        }
      ]
    },
    {
      "cell_type": "markdown",
      "source": [
        "The species column is added, and we map the target labels (0, 1, 2) to their corresponding species names: setosa, versicolor, and virginica.\n",
        "Extracting Petal Width Data:\n",
        "\n",
        "We extract the petal widths for Setosa, Versicolor, and Virginica using filtering based on the species column.\n",
        "ANOVA Test:\n",
        "\n",
        "We use the stats.f_oneway function from SciPy to perform the one-way ANOVA. This function compares the means of the three groups (Setosa, Versicolor, Virginica) and calculates the F-statistic and p-value.\n",
        "Interpretation:\n",
        "\n",
        "If the p-value is less than 0.05, we reject the null hypothesis, which means there is a significant difference in mean petal widths between the species.\n",
        "If the p-value is greater than or equal to 0.05, we fail to reject the null hypothesis, meaning the mean petal widths are not significantly different."
      ],
      "metadata": {
        "id": "aHe_vfIlPCOW"
      }
    },
    {
      "cell_type": "code",
      "source": [
        "import pandas as pd\n",
        "import numpy as np\n",
        "from scipy import stats\n",
        "import statsmodels.api as sm\n",
        "from sklearn.datasets import load_iris\n",
        "import matplotlib.pyplot as plt\n",
        "\n",
        "\n",
        "iris = load_iris()\n",
        "\n",
        "\n",
        "df = pd.DataFrame(iris.data, columns=iris.feature_names)\n",
        "\n",
        "\n",
        "df['species'] = iris.target\n",
        "df['species'] = df['species'].map({0: 'setosa', 1: 'versicolor', 2: 'virginica'})\n",
        "\n",
        "\n",
        "sepal_length = df['sepal length (cm)']\n",
        "petal_length = df['petal length (cm)']\n",
        "\n",
        "\n",
        "correlation, _ = stats.pearsonr(sepal_length, petal_length)\n",
        "\n",
        "\n",
        "print(\"Pearson Correlation Coefficient between Sepal Length and Petal Length:\")\n",
        "print(f\"Correlation: {correlation}\")\n",
        "\n",
        "\n",
        "X = sm.add_constant(sepal_length)\n",
        "y = petal_length\n",
        "\n",
        "\n",
        "model = sm.OLS(y, X).fit()\n",
        "\n",
        "\n",
        "print(\"\\nRegression Summary:\")\n",
        "print(model.summary())\n",
        "\n",
        "\n",
        "plt.scatter(sepal_length, petal_length, color='blue', label='Data points')\n",
        "plt.plot(sepal_length, model.predict(X), color='red', label='Regression Line')\n",
        "plt.xlabel('Sepal Length (cm)')\n",
        "plt.ylabel('Petal Length (cm)')\n",
        "plt.title('Relationship between Sepal Length and Petal Length')\n",
        "plt.legend()\n",
        "plt.show()\n"
      ],
      "metadata": {
        "colab": {
          "base_uri": "https://localhost:8080/",
          "height": 975
        },
        "id": "0l4Eb4vqPzEM",
        "outputId": "49c98af1-5f45-4b86-aa62-b06481e9f635"
      },
      "execution_count": null,
      "outputs": [
        {
          "output_type": "stream",
          "name": "stdout",
          "text": [
            "Pearson Correlation Coefficient between Sepal Length and Petal Length:\n",
            "Correlation: 0.8717537758865831\n",
            "\n",
            "Regression Summary:\n",
            "                            OLS Regression Results                            \n",
            "==============================================================================\n",
            "Dep. Variable:      petal length (cm)   R-squared:                       0.760\n",
            "Model:                            OLS   Adj. R-squared:                  0.758\n",
            "Method:                 Least Squares   F-statistic:                     468.6\n",
            "Date:                Mon, 25 Nov 2024   Prob (F-statistic):           1.04e-47\n",
            "Time:                        21:39:14   Log-Likelihood:                -190.57\n",
            "No. Observations:                 150   AIC:                             385.1\n",
            "Df Residuals:                     148   BIC:                             391.2\n",
            "Df Model:                           1                                         \n",
            "Covariance Type:            nonrobust                                         \n",
            "=====================================================================================\n",
            "                        coef    std err          t      P>|t|      [0.025      0.975]\n",
            "-------------------------------------------------------------------------------------\n",
            "const                -7.1014      0.507    -14.016      0.000      -8.103      -6.100\n",
            "sepal length (cm)     1.8584      0.086     21.646      0.000       1.689       2.028\n",
            "==============================================================================\n",
            "Omnibus:                        0.253   Durbin-Watson:                   1.204\n",
            "Prob(Omnibus):                  0.881   Jarque-Bera (JB):                0.386\n",
            "Skew:                          -0.082   Prob(JB):                        0.824\n",
            "Kurtosis:                       2.812   Cond. No.                         43.4\n",
            "==============================================================================\n",
            "\n",
            "Notes:\n",
            "[1] Standard Errors assume that the covariance matrix of the errors is correctly specified.\n"
          ]
        },
        {
          "output_type": "display_data",
          "data": {
            "text/plain": [
              "<Figure size 640x480 with 1 Axes>"
            ],
            "image/png": "[encoded data removed]"
          },
          "metadata": {}
        }
      ]
    },
    {
      "cell_type": "markdown",
      "source": [
        "We load the Iris dataset and convert it into a pandas DataFrame for easier manipulation. The species column is added and mapped to species names: setosa, versicolor, and virginica. Pearson Correlation:\n",
        "\n",
        "We calculate the Pearson correlation coefficient between sepal length and petal length using stats.pearsonr from SciPy. The correlation coefficient provides a numerical measure of the linear relationship between the two variables. A positive correlation indicates that as sepal length increases, petal length also increases. Linear Regression:\n",
        "\n",
        "We use statsmodels for performing simple linear regression. First, we add a constant term (intercept) to the independent variable, sepal_length using sm.add_constant:. We then fit the regression model using the Ordinary Least Squares method and display the summary, including: The intercept ( ???? 0 β 0​) The slope ( ???? 1 β 1​) R-squared value-the proportion of variance in petal length explained by sepal length p-values-testing significance of the coefficients Visualization:\n",
        "\n",
        "We plot the data points (sepal_length, petal_length) as blue dots and overlay the regression line (in red) to visualize the linear relationship."
      ],
      "metadata": {
        "id": "Io3LEBuUQ9xD"
      }
    },
    {
      "cell_type": "markdown",
      "source": [],
      "metadata": {
        "id": "H2L68jKIR8o5"
      }
    }
  ]
}